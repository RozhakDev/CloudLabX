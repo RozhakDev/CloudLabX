{
  "nbformat": 4,
  "nbformat_minor": 0,
  "metadata": {
    "colab": {
      "provenance": []
    },
    "kernelspec": {
      "name": "python3",
      "display_name": "Python 3"
    },
    "language_info": {
      "name": "python"
    }
  },
  "cells": [
    {
      "cell_type": "markdown",
      "source": [
        "# **Implementasi Sistem Penamaan Terdistribusi - Komputasi Awan dan Terdistribusi**\n",
        "\n",
        "**Tujuan:**\n",
        "Notebook ini dibuat untuk mendemonstasikan cara kerja berbagai sistem penamaan yang digunakan dalam lingkungan terdistribusi. Fokusnya adalah pada penerapan konsep-konsep dari bab 6 (Naming) seperti:\n",
        "1. Domain Name System (DNS)\n",
        "2. Naming in Network File System (NFS)\n",
        "3. Attribute-Based Naming (Directory Services dan LDAP)\n",
        "4. Distributed Index\n",
        "\n",
        "Setiap bagian terdiri dari penjelasan singkat dan implmentasi *Python* untuk memvisualisasikan konsep yang dibahas."
      ],
      "metadata": {
        "id": "GFQUyi2gcUD3"
      }
    },
    {
      "cell_type": "markdown",
      "source": [
        "## **1. Domain Name System (DNS)**\n",
        "\n",
        "Domain Name Systems (DNS) merupakan sistem penamaan hirerarkis yang digunakan untuk menerjemahkan nama domain menjadi alamat IP. Dalam konteks sistem terdistribusi, DNS memungkinkan pengguna untuk mengakses sumber daya tanpa harus mengetahui alamat IP secara langsung. Pada implementasi ini, kita akan melihat bagaimana Python dapat melakukan resolusi nama domain ke alamt IP dan juga mengambil record lain seperti MX."
      ],
      "metadata": {
        "id": "aF1NZ2ybdfLt"
      }
    },
    {
      "cell_type": "code",
      "execution_count": 1,
      "metadata": {
        "colab": {
          "base_uri": "https://localhost:8080/"
        },
        "id": "hNSL3NSdbcMs",
        "outputId": "14709af8-a806-4572-9770-801b8b303e8c"
      },
      "outputs": [
        {
          "output_type": "stream",
          "name": "stdout",
          "text": [
            "Domain: www.telkomuniversity.ac.id\n",
            "Alamat IP: 172.67.75.5\n"
          ]
        }
      ],
      "source": [
        "# Lookup DNS menggunakan modul socket\n",
        "import socket\n",
        "\n",
        "domain = \"www.telkomuniversity.ac.id\"\n",
        "ip_address = socket.gethostbyname(domain)\n",
        "\n",
        "print(f\"Domain: {domain}\")\n",
        "print(f\"Alamat IP: {ip_address}\")"
      ]
    },
    {
      "cell_type": "code",
      "source": [
        "!pip install dnspython > /dev/null"
      ],
      "metadata": {
        "id": "f0QLO3mCfGgM"
      },
      "execution_count": 2,
      "outputs": []
    },
    {
      "cell_type": "code",
      "source": [
        "# Lookup DNS record MX menggunakan dnspython\n",
        "import dns.resolver\n",
        "\n",
        "print(\"Record MX:\")\n",
        "answers = dns.resolver.resolve('telkomuniversity.ac.id', 'MX')\n",
        "for rdata in answers:\n",
        "    print(f\"  > Mail Server: {rdata.exchange}\")"
      ],
      "metadata": {
        "colab": {
          "base_uri": "https://localhost:8080/"
        },
        "id": "34p3iH2QewJp",
        "outputId": "2a60dde1-f018-4e0d-de27-07497b665bc2"
      },
      "execution_count": 3,
      "outputs": [
        {
          "output_type": "stream",
          "name": "stdout",
          "text": [
            "Record MX:\n",
            "  > Mail Server: telkomuniversity-ac-id.mail.protection.outlook.com.\n"
          ]
        }
      ]
    },
    {
      "cell_type": "markdown",
      "source": [
        "## **2. Naming in Network File Systems (NFS)**\n",
        "\n",
        "Network File Systems (NFS) merupakan sistem yang memungkinkan client mengakses file melalui jaringan seolah-olah file tersebut secara lokal. Konsep utamanya adalah *mounting*, yaitu mengaitkan direktori server ke sistem file client. Setiap client dapat memiliki namespace sendiri, sehingga file dari server tampak sebagai bagian dari direktori lokal."
      ],
      "metadata": {
        "id": "hwz6qRMvf8NI"
      }
    },
    {
      "cell_type": "code",
      "source": [
        "# Simulasi struktur server NFS\n",
        "nfs_server = {\n",
        "    \"/home\": [\"user1\", \"user2\"],\n",
        "    \"/shared\": [\"data.txt\", \"project.docx\"]\n",
        "}\n",
        "\n",
        "client_mount_point = \"/mnt/nfs\"\n",
        "mounted_namespace = nfs_server[\"/shared\"]\n",
        "\n",
        "print(\"Simulasi NFS:\")\n",
        "print(f\"Mount point client: {client_mount_point}\")\n",
        "print(f\"Isi direktori yang di-mount:\", mounted_namespace)"
      ],
      "metadata": {
        "colab": {
          "base_uri": "https://localhost:8080/"
        },
        "id": "Q9b4T2NEf7vu",
        "outputId": "2f8e0375-6d1f-4932-f85a-bcc965eef365"
      },
      "execution_count": 4,
      "outputs": [
        {
          "output_type": "stream",
          "name": "stdout",
          "text": [
            "Simulasi NFS:\n",
            "Mount point client: /mnt/nfs\n",
            "Isi direktori yang di-mount: ['data.txt', 'project.docx']\n"
          ]
        }
      ]
    },
    {
      "cell_type": "markdown",
      "source": [
        "## **3. Attribute-Based Naming (Directory Services & LDAP)**\n",
        "\n",
        "Attribute-Based Naming adalah pendekatan di mana entitas diidentifikasi berdasarkan atribut bukan berdasarkan posisi hierarki seperti pada DNS. Contohnya digunakan dalam sistem direktori seperti Yellow Pages atau LDAP (Lightweight Direktory Directory Protocol)."
      ],
      "metadata": {
        "id": "Pi1ibIBriR9o"
      }
    },
    {
      "cell_type": "code",
      "source": [
        "# Simulasi direktori berbasis atribut\n",
        "directory = [\n",
        "    {\"C\": \"ID\", \"O\": \"Telkom University\", \"OU\": \"Informatics\", \"CN\": \"Main Server\"},\n",
        "    {\"C\": \"ID\", \"O\": \"Telkom University\", \"OU\": \"Library\", \"CN\": \"Catalog Server\"}\n",
        "]\n",
        "\n",
        "def search_directory(attribute, value):\n",
        "    result = [entry for entry in directory if entry.get(attribute) == value]\n",
        "    return result\n",
        "\n",
        "# Pencarian berdasarkan Organizational Unit\n",
        "result = search_directory(\"OU\", \"Library\")\n",
        "print(\"Pencarian Berdasarkan Atribut:\")\n",
        "print(\"Hasil pencarian:\", result)"
      ],
      "metadata": {
        "colab": {
          "base_uri": "https://localhost:8080/"
        },
        "id": "zgac5dysjFZH",
        "outputId": "e555aef2-68a3-43a3-f981-086231d339a1"
      },
      "execution_count": 5,
      "outputs": [
        {
          "output_type": "stream",
          "name": "stdout",
          "text": [
            "Pencarian Berdasarkan Atribut:\n",
            "Hasil pencarian: [{'C': 'ID', 'O': 'Telkom University', 'OU': 'Library', 'CN': 'Catalog Server'}]\n"
          ]
        }
      ]
    },
    {
      "cell_type": "markdown",
      "source": [
        "## **4. Distributed Index**\n",
        "\n",
        "Konsep distributed index digunakan untuk menyebarkan data atribut ke beberapa server. Setiap server dapat menyimpan indeks untuk atribut tertentu. Namun, pencarian yang melibatkan banyak atribut bisa memerlukan komunikasi antar server. Di bawah ini adalah simulasi sederhana dari sistem distributed index menggunakna Python."
      ],
      "metadata": {
        "id": "SpWYQAOyoRqL"
      }
    },
    {
      "cell_type": "code",
      "source": [
        "distributed_servers = {\n",
        "    \"name_server\": {\"Putri\": \"192.168.1.2\", \"Rozhak\": \"192.168.1.3\"},\n",
        "    \"depth_server\": {\"Informatics\": [\"Putri\", \"Rozhak\"]}\n",
        "}\n",
        "\n",
        "def distributed_lookup(attribute, value):\n",
        "    if attribute == \"name\":\n",
        "        return distributed_servers[\"name_server\"].get(value)\n",
        "    elif attribute == \"departement\":\n",
        "        return distributed_servers[\"depth_server\"].get(value)\n",
        "    else:\n",
        "        return None\n",
        "\n",
        "print(\"Simulasi Distributed Index:\")\n",
        "print(\"Lookup berdasarkan nama:\", distributed_lookup(\"name\", \"Putri\"))\n",
        "print(\"Lookup berdasarkan departemen:\", distributed_lookup(\"departement\", \"Informatics\"))"
      ],
      "metadata": {
        "colab": {
          "base_uri": "https://localhost:8080/"
        },
        "id": "PFpSfJXsnLGg",
        "outputId": "b79bc70e-36ef-488e-d484-b16a6cc53320"
      },
      "execution_count": 6,
      "outputs": [
        {
          "output_type": "stream",
          "name": "stdout",
          "text": [
            "Simulasi Distributed Index:\n",
            "Lookup berdasarkan nama: 192.168.1.2\n",
            "Lookup berdasarkan departemen: ['Putri', 'Rozhak']\n"
          ]
        }
      ]
    },
    {
      "cell_type": "markdown",
      "metadata": {
        "id": "956872af"
      },
      "source": [
        "# **Penutup**\n",
        "\n",
        "Notebook ini telah mendemonstrasikan implementasi dasar dari beberapa sistem penamaan terdistribusi, yaitu DNS, Naming in NFS, Attribute-Based Naming (Directory Services & LDAP), dan Distributed Index."
      ]
    }
  ]
}