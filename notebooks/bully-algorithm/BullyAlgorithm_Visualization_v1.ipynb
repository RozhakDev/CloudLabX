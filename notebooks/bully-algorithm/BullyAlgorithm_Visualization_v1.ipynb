{
  "nbformat": 4,
  "nbformat_minor": 0,
  "metadata": {
    "colab": {
      "provenance": []
    },
    "kernelspec": {
      "name": "python3",
      "display_name": "Python 3"
    },
    "language_info": {
      "name": "python"
    }
  },
  "cells": [
    {
      "cell_type": "markdown",
      "source": [
        "# **Algoritma Pemilihan Bully – Visualisasi Animasi Interaktif**\n",
        "\n",
        "- **Author:** `Rozhak`\n",
        "- **Version:** `1.0`\n",
        "- **Pembaruan:** `18 Oktober 2025`"
      ],
      "metadata": {
        "id": "Kwu__XjJWEe9"
      }
    },
    {
      "cell_type": "markdown",
      "source": [
        "## **1. Mengimpor Pustaka yang Diperlukan**\n",
        "\n",
        "Bagian ini mengimpor pustaka yang diperlukan untuk menjalankan simulasi dan visualisasi animasi Algoritma Bully. Pustaka utama mencangkup `matplotlib` untuk visualisasi, `math` untuk perhitungan geometri, dan `IPython.display.HTML` untuk menampilkan animasi di lingkungan notebook."
      ],
      "metadata": {
        "id": "4IWfs0HrWuRk"
      }
    },
    {
      "cell_type": "code",
      "execution_count": null,
      "metadata": {
        "id": "83dX6pJ2um92"
      },
      "outputs": [],
      "source": [
        "import math\n",
        "import matplotlib.pyplot as plt\n",
        "import matplotlib.animation as animation\n",
        "from matplotlib.patches import Circle\n",
        "from IPython.display import HTML"
      ]
    },
    {
      "cell_type": "markdown",
      "source": [
        "## **2. Konfigurasi Parameter Simulasi**\n",
        "\n",
        "Bagian ini didefinisikan parameter dasat simulasi, seperti jumlah node, radius penemparan node dalam lingkaran, ukuran node, kecepatan animasi (FPS), dan durasi total animasi. Selain itu, skenario kejadian (seperti crach dan pertukaran pesan) juga ditentukan secara eksplisit untuk memandu alur animasi."
      ],
      "metadata": {
        "id": "OwcYpmFjXLvZ"
      }
    },
    {
      "cell_type": "code",
      "source": [
        "JUM_NODE = 5\n",
        "ID_NODE = list(range(1, JUM_NODE + 1))\n",
        "RADIUS = 3.0\n",
        "UKURAN_NODE = 600\n",
        "FPS = 30\n",
        "DURASI_DETIK = 12\n",
        "\n",
        "KEJADIAN = [\n",
        "    (0.5, None, 5, 'CRASH'),\n",
        "    (1.0, 2, 3, 'PEMILIHAN'),\n",
        "    (1.0, 2, 4, 'PEMILIHAN'),\n",
        "    (1.0, 2, 5, 'PEMILIHAN'),\n",
        "    (1.6, 3, 2, 'OK'),\n",
        "    (1.6, 4, 2, 'OK'),\n",
        "    (2.2, 3, 4, 'PEMILIHAN'),\n",
        "    (2.2, 3, 5, 'PEMILIHAN'),\n",
        "    (2.8, 4, 3, 'OK'),\n",
        "    (3.4, 4, 5, 'PEMILIHAN'),\n",
        "    (4.2, 4, 1, 'KOORDINATOR'),\n",
        "    (4.2, 4, 2, 'KOORDINATOR'),\n",
        "    (4.2, 4, 3, 'KOORDINATOR'),\n",
        "    (4.2, 4, 5, 'KOORDINATOR')\n",
        "]\n",
        "\n",
        "TOTAL_FRAME = DURASI_DETIK * FPS\n",
        "\n",
        "def waktu_ke_frame(t):\n",
        "    return int(t * FPS)\n",
        "\n",
        "KEJADIAN_FRAME = [(waktu_ke_frame(e[0]), e[1], e[2], e[3]) for e in KEJADIAN]"
      ],
      "metadata": {
        "id": "eQHpufoPXyQU"
      },
      "execution_count": null,
      "outputs": []
    },
    {
      "cell_type": "markdown",
      "source": [
        "## **3. Penempatan Node dalam Lingkungan**\n",
        "\n",
        "Setiap node ditempatkan secara merata pada keliling lingkaran menggunakan koordinat polar. Posisi ini digunakan untuk menentukan lokasi visual setiap node selama animasi."
      ],
      "metadata": {
        "id": "brHEJyy_Z52x"
      }
    },
    {
      "cell_type": "code",
      "source": [
        "posisi = {}\n",
        "for i, nid in enumerate(ID_NODE):\n",
        "        sudut = 2 * math.pi * i / JUM_NODE\n",
        "        x = RADIUS * math.cos(sudut)\n",
        "        y = RADIUS * math.sin(sudut)\n",
        "        posisi[nid] = (x, y)"
      ],
      "metadata": {
        "id": "CduGOR9waIdE"
      },
      "execution_count": null,
      "outputs": []
    },
    {
      "cell_type": "markdown",
      "source": [
        "## **4. Inisialisasi Status dan Logika Animasi**\n",
        "\n",
        "Status awal setiap node (aktif, crash, atau koordinator) diinisialisasi. Warna node digunakan sebagai indikator visual: abu-abu untuk aktif, merah muda untuk crash, dan hijau muda untuk koordinator. Selain itu, struktur data juga melacak pesan yang sedang dalam perjalanan dan log teks juga disiapkan."
      ],
      "metadata": {
        "id": "iGbm5uMNakYF"
      }
    },
    {
      "cell_type": "code",
      "source": [
        "warna_node = {nid: 'lightgrey' for nid in ID_NODE}\n",
        "node_crash = set()\n",
        "koordinator = None\n",
        "pesan_terbang = []\n",
        "baris_log = []\n",
        "MAKS_BARIS_LOG = 6\n",
        "\n",
        "def tambah_log(teks):\n",
        "    baris_log.insert(0, teks)\n",
        "    while len(baris_log) > MAKS_BARIS_LOG:\n",
        "        baris_log.pop()\n",
        "\n",
        "def mulai_kirim_pesan(dari, ke, pesan, frame_sekarang):\n",
        "    x1, y1 = posisi[dari]\n",
        "    x2, y2 = posisi[ke]\n",
        "\n",
        "    jarak = math.hypot(x2 - x1, y2 - y1)\n",
        "    durasi_dasar = int(FPS * 0.6)\n",
        "    frame_perjalanan = max(4, int(durasi_dasar * (1 + jarak / (RADIUS * 2))))\n",
        "\n",
        "    pesan_terbang.append({\n",
        "        'dari': dari,\n",
        "        'ke': ke,\n",
        "        'pesan': pesan,\n",
        "        'mulai': frame_sekarang,\n",
        "        'selesai': frame_sekarang + frame_perjalanan\n",
        "    })"
      ],
      "metadata": {
        "id": "UAqkh1t2akLl"
      },
      "execution_count": null,
      "outputs": []
    },
    {
      "cell_type": "markdown",
      "source": [
        "## **5. Persiapan Visualisasi dengan `Matplotlib`**\n",
        "\n",
        "Lingkungan visualisasi dibangun menggunakan `matplotlib`. Setiap node direpresentasikan sebagai lingkungan dengan label, dan pesan yang dikirim ditampilkan sebagai simbol bergerak antar node. Kotak log ditempatkan di bagian bawah untuk menampilkan riwayat secara real-time."
      ],
      "metadata": {
        "id": "3a2s1iyYci2w"
      }
    },
    {
      "cell_type": "code",
      "source": [
        "fig, ax = plt.subplots(figsize=(8, 6))\n",
        "ax.set_xlim(-RADIUS * 1.6, RADIUS * 1.6)\n",
        "ax.set_ylim(-RADIUS * 1.6, RADIUS * 1.6)\n",
        "ax.set_aspect('equal')\n",
        "ax.axis('off')\n",
        "plt.title('Algoritma Pemilihan Bully - Demo')\n",
        "\n",
        "artist_label = {}\n",
        "artist_node = {}\n",
        "for nid, (x, y) in posisi.items():\n",
        "    c = Circle((x, y), 0.35, facecolor=warna_node[nid], edgecolor='black', zorder=2)\n",
        "    ax.add_patch(c)\n",
        "    artist_node[nid] = c\n",
        "    lbl = ax.text(x, y - 0.6, f'P{nid}', ha='center', va='center', fontsize=10)\n",
        "    artist_label[nid] = lbl\n",
        "\n",
        "artist_pesan = []\n",
        "for _ in range(10):\n",
        "    p, = ax.plot([], [], marker='o', markersize=8, alpha=0.9)\n",
        "    artist_pesan.append(p)\n",
        "\n",
        "teks_log = ax.text(-RADIUS * 1.5, -RADIUS * 1.35, '', ha='left', va='top', fontsize=9, family='monospace')\n",
        "idx_kejadian_frame = 0"
      ],
      "metadata": {
        "colab": {
          "base_uri": "https://localhost:8080/",
          "height": 521
        },
        "id": "VG0RF1zzcjI9",
        "outputId": "2a4d92d0-54e2-4599-fa37-96ab2132dde0"
      },
      "execution_count": null,
      "outputs": [
        {
          "output_type": "display_data",
          "data": {
            "text/plain": [
              "<Figure size 800x600 with 1 Axes>"
            ],
            "image/png": "[encoded data removed]"
          },
          "metadata": {}
        }
      ]
    },
    {
      "cell_type": "markdown",
      "source": [
        "## **6. Fungsi Update Animasi**\n",
        "\n",
        "Fungsi ini dipanggil setiap frame untuk memperbarui status simulasi: memproses kejadian terjadwal, menggerakan pesan antar node, memperbarui warna node sesuai status, dan menampilkan log aktivitas terbaru."
      ],
      "metadata": {
        "id": "BBnpQukfdNme"
      }
    },
    {
      "cell_type": "code",
      "source": [
        "def update(frame):\n",
        "    global idx_kejadian_frame, koordinator\n",
        "    while idx_kejadian_frame < len(KEJADIAN_FRAME) and KEJADIAN_FRAME[idx_kejadian_frame][0] <= frame:\n",
        "        _, dari, ke, pesan = KEJADIAN_FRAME[idx_kejadian_frame]\n",
        "        idx_kejadian_frame += 1\n",
        "\n",
        "        if pesan == 'CRASH' and ke is not None:\n",
        "            node_crash.add(ke)\n",
        "            warna_node[ke] = 'lightcoral'\n",
        "            artist_node[ke].set_facecolor(warna_node[ke])\n",
        "            tambah_log(f'P{ke} mengalami crash')\n",
        "        elif pesan == 'PEMILIHAN':\n",
        "            if dari is not None and ke is not None:\n",
        "                tambah_log(f'P{dari} -> P{ke}: PEMILIHAN')\n",
        "                mulai_kirim_pesan(dari, ke, 'PEMILIHAN', frame)\n",
        "        elif pesan == 'OK':\n",
        "            tambah_log(f'P{dari} -> P{ke}: OK')\n",
        "            mulai_kirim_pesan(dari, ke, 'OK', frame)\n",
        "        elif pesan == 'KOORDINATOR':\n",
        "            tambah_log(f'P{dari} mengumumkan KOORDINATOR ke P{ke}')\n",
        "            mulai_kirim_pesan(dari, ke, 'KOORDINATOR', frame)\n",
        "\n",
        "    for p in artist_pesan:\n",
        "        p.set_data([], [])\n",
        "        p.set_marker('o')\n",
        "\n",
        "    idx_artist = 0\n",
        "    for msg in list(pesan_terbang):\n",
        "        frame_mulai = msg['mulai']\n",
        "        frame_selesai = msg['selesai']\n",
        "        if frame < frame_mulai:\n",
        "            continue\n",
        "\n",
        "        t = (frame - frame_mulai) / max(1, (frame_selesai - frame_mulai))\n",
        "        if t >= 1.0:\n",
        "            if msg['pesan'] == 'KOORDINATOR':\n",
        "                koordinator = msg['dari']\n",
        "                for nid in ID_NODE:\n",
        "                    if nid not in node_crash:\n",
        "                        warna_node[nid] = 'lightgreen' if nid == koordinator else 'lightgrey'\n",
        "                        artist_node[nid].set_facecolor(warna_node[nid])\n",
        "                tambah_log(f'P{msg[\"dari\"]} -> P{msg[\"ke\"]}: KOORDINATOR terkirim')\n",
        "            elif msg['pesan'] == 'PEMILIHAN':\n",
        "                rid = msg['ke']\n",
        "                if rid not in node_crash and rid > msg['dari']:\n",
        "                    mulai_kirim_pesan(rid, msg['dari'], 'OK', frame)\n",
        "                tambah_log(f'P{msg[\"dari\"]} -> P{msg[\"ke\"]}: PEMILIHAN terkirim')\n",
        "            elif msg['pesan'] == 'OK':\n",
        "                tambah_log(f'P{msg[\"dari\"]} -> P{msg[\"ke\"]}: OK terkirim')\n",
        "            pesan_terbang.remove(msg)\n",
        "            continue\n",
        "\n",
        "        x1, y1 = posisi[msg['dari']]\n",
        "        x2, y2 = posisi[msg['ke']]\n",
        "        xm = x1 + (x2 - x1) * t\n",
        "        ym = y1 + (y2 - y1) * t\n",
        "\n",
        "        if idx_artist < len(artist_pesan):\n",
        "            p = artist_pesan[idx_artist]\n",
        "            if msg['pesan'] == 'PEMILIHAN':\n",
        "                p.set_marker('^')\n",
        "                p.set_markersize(8)\n",
        "            elif msg['pesan'] == 'OK':\n",
        "                p.set_marker('s')\n",
        "                p.set_markersize(6)\n",
        "            elif msg['pesan'] == 'KOORDINATOR':\n",
        "                p.set_marker('*')\n",
        "                p.set_markersize(10)\n",
        "            p.set_data([xm], [ym])\n",
        "            idx_artist += 1\n",
        "\n",
        "    teks_log.set_text('\\n'.join(baris_log))\n",
        "    return list(artist_node.values()) + artist_pesan + [teks_log]"
      ],
      "metadata": {
        "id": "MfjvQUEydN4g"
      },
      "execution_count": null,
      "outputs": []
    },
    {
      "cell_type": "markdown",
      "source": [
        "## **7. Menjalankan dan Menampilkan Animasi**\n",
        "\n",
        "Animasi dijalankan menggunakan `FuncAnimation` dadi `matplotlib` dan ditampilkan sebagai HTML interaktif dilingkungan notebook seperti **Google Colab**. Figure statis ditutup agar tidak mengganggu tampilan output."
      ],
      "metadata": {
        "id": "OEUQ0WcXddX-"
      }
    },
    {
      "cell_type": "code",
      "source": [
        "ani = animation.FuncAnimation(fig, update, frames=TOTAL_FRAME, interval=1000 / FPS, blit=False)\n",
        "plt.close(fig)\n",
        "display(HTML(ani.to_jshtml()))\n",
        "\n",
        "#display(HTML(ani.to_html5_video()))\n",
        "ani.save('bully-sim.mp4')"
      ],
      "metadata": {
        "id": "SGVZlhJkpSNT",
        "colab": {
          "base_uri": "https://localhost:8080/",
          "height": 697
        },
        "outputId": "e7d930e6-08a0-4eb9-dbbf-a62bb34061f1"
      },
      "execution_count": null,
      "outputs": []
    }
  ]
}